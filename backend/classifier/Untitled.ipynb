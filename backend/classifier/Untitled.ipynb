{
 "cells": [
  {
   "cell_type": "code",
   "execution_count": 1,
   "metadata": {},
   "outputs": [],
   "source": [
    "import argparse\n",
    "import json\n",
    "import numpy as np\n",
    "import requests\n",
    "import cv2\n",
    "\n",
    "TF_URL = \"http://localhost:9000/v1/models/model:predict\"\n",
    "\n",
    "\n",
    "def prep_single_img_selfrecorded(img,  viola_jones_model=\"haarcascade_files/haarcascade_frontalface_default.xml\", image_shape=(48, 48), grey=True):\n",
    "    face_detection = cv2.CascadeClassifier(viola_jones_model)\n",
    "    grey_img = cv2.cvtColor(img, cv2.COLOR_BGR2GRAY)\n",
    "    #face detection \n",
    "    faces = face_detection.detectMultiScale(grey_img,scaleFactor=1.1,minNeighbors=5,minSize=(20,20),flags=cv2.CASCADE_SCALE_IMAGE)\n",
    "    # sorting out images with failed detection\n",
    "    target_face = None\n",
    "    if len(faces) == 0:\n",
    "        print (\"ERROR: there was no face detected on image, discarding it\")\n",
    "        return None\n",
    "    elif len(faces) > 1:\n",
    "        print (\"WARNING: there was more than one face detected on image, using the biggest one\")\n",
    "        for face in faces:\n",
    "            size = face[2] * face[3]\n",
    "            if target_face is None or (target_face[2] * target_face[3] < size):\n",
    "                target_face = face\n",
    "    else:\n",
    "        target_face = faces[0]\n",
    "        ## cropping image to only face\n",
    "    (fX, fY, fW, fH) = target_face\n",
    "    if grey:\n",
    "        img = grey_img[ fY: fY + fH, fX: fX +fW].copy()\n",
    "    else:\n",
    "        img = img[ fY: fY + fH, fX: fX +fW].copy()\n",
    "    #rescale it\n",
    "    img = cv2.resize(img.astype('uint8'),image_shape)\n",
    "\n",
    "    return img.astype('float32')\n",
    "\n",
    "def normalize_input(image):\n",
    "    image = image.astype('float32')\n",
    "    image = image / 255.0\n",
    "    return image\n"
   ]
  },
  {
   "cell_type": "code",
   "execution_count": 2,
   "metadata": {},
   "outputs": [],
   "source": [
    "image_path =\"../../../emotion-recognition-facial/selfrecorded/happiness_1wvbloi1jyna4yxlffq7_frame0.jpg\"\n",
    "img = cv2.imread(image_path)"
   ]
  },
  {
   "cell_type": "code",
   "execution_count": 3,
   "metadata": {},
   "outputs": [
    {
     "data": {
      "text/plain": [
       "(480, 640, 3)"
      ]
     },
     "execution_count": 3,
     "metadata": {},
     "output_type": "execute_result"
    }
   ],
   "source": [
    "img.shape"
   ]
  },
  {
   "cell_type": "code",
   "execution_count": 5,
   "metadata": {},
   "outputs": [],
   "source": [
    "viola_jones_model=\"haarcascade_files/haarcascade_frontalface_default.xml\""
   ]
  },
  {
   "cell_type": "code",
   "execution_count": null,
   "metadata": {},
   "outputs": [],
   "source": []
  }
 ],
 "metadata": {
  "kernelspec": {
   "display_name": "Python 3",
   "language": "python",
   "name": "python3"
  },
  "language_info": {
   "codemirror_mode": {
    "name": "ipython",
    "version": 3
   },
   "file_extension": ".py",
   "mimetype": "text/x-python",
   "name": "python",
   "nbconvert_exporter": "python",
   "pygments_lexer": "ipython3",
   "version": "3.7.0"
  }
 },
 "nbformat": 4,
 "nbformat_minor": 2
}
